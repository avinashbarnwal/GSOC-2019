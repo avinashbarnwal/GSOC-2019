{
 "cells": [
  {
   "cell_type": "code",
   "execution_count": 6,
   "metadata": {},
   "outputs": [],
   "source": [
    "import numpy  as np\n",
    "import pandas as pd"
   ]
  },
  {
   "cell_type": "code",
   "execution_count": 44,
   "metadata": {},
   "outputs": [],
   "source": [
    "np.random.seed(2)"
   ]
  },
  {
   "cell_type": "code",
   "execution_count": 10,
   "metadata": {},
   "outputs": [],
   "source": [
    "# Get 1,000 observation\n",
    "b0    = 17\n",
    "b1    = 0.5\n",
    "index = np.arange(1,1001)\n",
    "x1    = np.random.uniform(-100,100, 1000)\n",
    "eps   = np.random.normal(0.0,1.0, 1000)\n",
    "sigma = 4\n",
    "df    = pd.DataFrame({\"id\":index,\"x1\":x1,\"eps\":eps})"
   ]
  },
  {
   "cell_type": "code",
   "execution_count": 43,
   "metadata": {},
   "outputs": [],
   "source": [
    "# Set up the data\n",
    "df['y'] = b0 + b1*df['x1'] + eps\n",
    "# Convert all negative to zero\n",
    "df.loc[df['y']<=0,'y'] = 0\n",
    "# Convert first 500 obs > 50 to 50\n",
    "df['y_cen'] = df['y']\n",
    "\n",
    "df.loc[(df['y']>50) & (df['id'] < 500),'y_cen'] = 50\n",
    "# Convert last 500 obs > 40 to 40\n",
    "df.loc[(df['y']>40) & (df['id'] > 500),'y_cen'] = 40\n",
    "# Define left and rigth variables\n",
    "df['left']  = df['y']\n",
    "df['right'] = df['y']\n",
    "\n",
    "df.loc[df['y']<=0,'left'] = -float('inf')\n",
    "df.loc[((df['y']>50) & (df['id'] < 500)) | ((df['y']>40) & (df['id'] > 500)),'right'] = float('inf')\n",
    "n = df.shape[0]\n",
    "\n",
    "df['right'] = df['right'].apply(lambda x : x+5 if x>=10 and x<=20 else x) \n",
    "df['right'] = df['right'].apply(lambda x : x+20 if x==0 else x)"
   ]
  },
  {
   "cell_type": "code",
   "execution_count": 50,
   "metadata": {},
   "outputs": [
    {
     "data": {
      "text/plain": [
       "False"
      ]
     },
     "execution_count": 50,
     "metadata": {},
     "output_type": "execute_result"
    }
   ],
   "source": [
    "df['left'][1]!=-float('inf')"
   ]
  },
  {
   "cell_type": "code",
   "execution_count": 53,
   "metadata": {},
   "outputs": [
    {
     "data": {
      "text/plain": [
       "True"
      ]
     },
     "execution_count": 53,
     "metadata": {},
     "output_type": "execute_result"
    }
   ],
   "source": [
    "df['left'][4]==df['right'][4]"
   ]
  }
 ],
 "metadata": {
  "kernelspec": {
   "display_name": "Python 3",
   "language": "python",
   "name": "python3"
  },
  "language_info": {
   "codemirror_mode": {
    "name": "ipython",
    "version": 3
   },
   "file_extension": ".py",
   "mimetype": "text/x-python",
   "name": "python",
   "nbconvert_exporter": "python",
   "pygments_lexer": "ipython3",
   "version": "3.7.3"
  }
 },
 "nbformat": 4,
 "nbformat_minor": 2
}
