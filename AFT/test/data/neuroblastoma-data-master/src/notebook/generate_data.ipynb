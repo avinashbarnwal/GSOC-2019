{
 "cells": [
  {
   "cell_type": "code",
   "execution_count": 3,
   "metadata": {},
   "outputs": [],
   "source": [
    "import numpy  as np\n",
    "import pandas as pd"
   ]
  },
  {
   "cell_type": "code",
   "execution_count": 4,
   "metadata": {},
   "outputs": [],
   "source": [
    "np.random.seed(2)"
   ]
  },
  {
   "cell_type": "code",
   "execution_count": 5,
   "metadata": {},
   "outputs": [],
   "source": [
    "# Get 1,000 observation\n",
    "b0    = 17\n",
    "b1    = 0.5\n",
    "b2    = 1\n",
    "b3    = 2\n",
    "index = np.arange(1,1001)\n",
    "x1    = np.random.uniform(-100,100, 1000)\n",
    "x2    = np.random.uniform(-100,100, 1000)\n",
    "x3    = np.random.uniform(-100,100, 1000)\n",
    "x4    = np.random.uniform(1, 100, 1000)\n",
    "eps   = np.random.normal(0.0,1.0, 1000)\n",
    "sigma = 4\n",
    "df    = pd.DataFrame({\"id\":index,\"x1\":x1,\"x2\":x2,\"x3\":x3,\"eps\":eps})\n",
    "df1   = pd.DataFrame({\"id\":index,\"x1\":x1,\"x2\":x2,\"x3\":x3,\"eps\":eps})"
   ]
  },
  {
   "cell_type": "code",
   "execution_count": 6,
   "metadata": {},
   "outputs": [],
   "source": [
    "# Set up the data\n",
    "df['y'] = b0 + b1*df['x1'] + b2*df['x2'] + b3*df['x3'] + eps*sigma\n",
    "# Convert all negative to zero\n",
    "df.loc[df['y']<=0,'y'] = 0\n",
    "# Convert first 500 obs > 50 to 50\n",
    "df['y_cen'] = df['y']\n",
    "\n",
    "df.loc[(df['y']>50) & (df['id'] < 500),'y_cen'] = 50\n",
    "# Convert last 500 obs > 40 to 40\n",
    "df.loc[(df['y']>40) & (df['id'] > 500),'y_cen'] = 40\n",
    "# Define left and rigth variables\n",
    "df['left']  = df['y']\n",
    "df['right'] = df['y']\n",
    "\n",
    "df.loc[df['y']<=0,'left'] = -float('inf')\n",
    "df.loc[((df['y']>50) & (df['id'] < 500)) | ((df['y']>40) & (df['id'] > 500)),'right'] = float('inf')\n",
    "n = df.shape[0]\n",
    "\n",
    "df['right'] = df['right'].apply(lambda x : x+5 if x>=10 and x<=20 else x) \n",
    "df['right'] = df['right'].apply(lambda x : x+20 if x==0 else x)\n",
    "df['left']  = df['left'].apply(lambda x : x+20 if x==0 else x)"
   ]
  },
  {
   "cell_type": "code",
   "execution_count": 7,
   "metadata": {},
   "outputs": [],
   "source": [
    "df1['y']                 = b0 + b1*df['x1'] + b2*df['x2'] + b3*df['x3'] + eps*sigma\n",
    "df1.loc[df1['y']<=0,'y'] = 0\n",
    "df1['y']                 = df1['y'] + x4\n",
    "df1['left']  = df1['y']\n",
    "df1['right'] = df1['y']"
   ]
  },
  {
   "cell_type": "code",
   "execution_count": 8,
   "metadata": {},
   "outputs": [],
   "source": [
    "df.to_csv(\"simulate_survival.csv\")\n",
    "df1.to_csv(\"simulate_survival_uncen.csv\")"
   ]
  }
 ],
 "metadata": {
  "kernelspec": {
   "display_name": "Python 3",
   "language": "python",
   "name": "python3"
  },
  "language_info": {
   "codemirror_mode": {
    "name": "ipython",
    "version": 3
   },
   "file_extension": ".py",
   "mimetype": "text/x-python",
   "name": "python",
   "nbconvert_exporter": "python",
   "pygments_lexer": "ipython3",
   "version": "3.7.3"
  }
 },
 "nbformat": 4,
 "nbformat_minor": 2
}
