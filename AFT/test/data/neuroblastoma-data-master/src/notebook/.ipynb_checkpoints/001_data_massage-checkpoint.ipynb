{
 "cells": [
  {
   "cell_type": "code",
   "execution_count": 1,
   "metadata": {},
   "outputs": [],
   "source": [
    "import numpy                                   as np\n",
    "import pandas                                  as pd\n",
    "import matplotlib.pyplot                       as plt\n",
    "import math\n",
    "import random\n",
    "from   sklearn                                 import ensemble\n",
    "from   sklearn                                 import datasets\n",
    "from   sklearn.utils                           import shuffle\n",
    "from   sklearn.metrics                         import mean_squared_error\n",
    "from   sklearn.datasets                        import load_boston\n",
    "from   sklearn.model_selection                 import cross_val_score\n",
    "from   sklearn.tree                            import DecisionTreeRegressor\n",
    "from   sklearn.model_selection                 import train_test_split\n",
    "from   sklearn.ensemble._gradient_boosting     import predict_stages\n",
    "from   sklearn.ensemble._gradient_boosting     import predict_stage\n",
    "from   abc                                     import abstractmethod\n",
    "from   scipy.special                           import expit\n",
    "from   sklearn.utils                           import check_array\n",
    "from   sklearn.tree._tree                      import DTYPE\n",
    "from   sklearn.tree._tree                      import TREE_LEAF\n",
    "from   scipy.special                           import logsumexp\n",
    "from   sklearn.utils                           import check_random_state\n",
    "from   sklearn.ensemble.gradient_boosting      import ZeroEstimator\n",
    "from   _aft_loss                               import loss, negative_gradient,hessian\n",
    "from   gb_aft                                  import GradientBoostingClassifier,chart_creation,generate_result\n",
    "import sys\n",
    "import graphviz\n",
    "sys.setrecursionlimit(10000)"
   ]
  },
  {
   "cell_type": "code",
   "execution_count": 6,
   "metadata": {},
   "outputs": [],
   "source": [
    "def getInputOutputFolder(fileFlag=None):\n",
    "    f  = open(\"data_file.txt\", \"r\")\n",
    "    i  = 0\n",
    "    for l in f.readlines():\n",
    "        if fileFlag<32:\n",
    "            if i==fileFlag:\n",
    "                foldName = l[:-1]\n",
    "        if fileFlag==32:\n",
    "            if i==fileFlag:\n",
    "                foldName = l\n",
    "        \n",
    "        i = i+1\n",
    "    f.close()\n",
    "    dataNameSplit = foldName.split(\"/\")\n",
    "    inputFileName  = '../../data/'+ dataNameSplit[1]+'/inputs.csv'\n",
    "    outputFileName = '../../data/'+ dataNameSplit[1]+'/outputs.csv'\n",
    "    foldName       = '../../'+foldName\n",
    "    return inputFileName,outputFileName,foldName,dataNameSplit[1]"
   ]
  },
  {
   "cell_type": "code",
   "execution_count": 7,
   "metadata": {},
   "outputs": [],
   "source": [
    "#Input the File Number\n",
    "fileFlag = 2\n",
    "inputFileName,outputFileName,foldName,dataName = getInputOutputFolder(fileFlag)"
   ]
  },
  {
   "cell_type": "code",
   "execution_count": 8,
   "metadata": {},
   "outputs": [
    {
     "name": "stdout",
     "output_type": "stream",
     "text": [
      "[4 1 3 2]\n"
     ]
    }
   ],
   "source": [
    "input     = pd.read_csv(inputFileName)\n",
    "label     = pd.read_csv(outputFileName)\n",
    "folds     = pd.read_csv(foldName)\n",
    "folds_iter = folds['fold'].unique()\n",
    "print(folds_iter)\n",
    "input.replace([np.inf, -np.inf], np.nan,inplace=True)"
   ]
  },
  {
   "cell_type": "code",
   "execution_count": 11,
   "metadata": {},
   "outputs": [],
   "source": [
    "colnames       = input.columns.values\n",
    "colnamesSeries = input.isna().sum()\n",
    "nullColnames   = list(colnamesSeries.index[colnamesSeries>0].values)\n",
    "nullColnames.append('sequenceID')\n",
    "colnames       = [x for x in colnames if x not in nullColnames]"
   ]
  },
  {
   "cell_type": "code",
   "execution_count": null,
   "metadata": {},
   "outputs": [],
   "source": [
    "for i in folds_iter:\n",
    "    test_fold    = i\n",
    "    test_id      = folds[folds[\"fold\"]==i]['sequenceID']\n",
    "    train_id     = folds[folds[\"fold\"]!=i]['sequenceID']\n",
    "    X            = input[input['sequenceID'].isin(train_id)]\n",
    "    X_val        = input[input['sequenceID'].isin(test_id)]\n",
    "    X            = X[colnames]\n",
    "    X_val        = X_val[colnames]\n",
    "    y_label        = label[label['sequenceID'].isin(train_id)]\n",
    "    y_label_test   = label[label['sequenceID'].isin(test_id)]\n",
    "    y_lower      = y_label['min.log.lambda']\n",
    "    y_higher     = y_label['max.log.lambda']\n",
    "    y_lower_val  = y_label_test['min.log.lambda']\n",
    "    y_higher_val = y_label_test['max.log.lambda']\n",
    "    \n",
    "    param        = {'n_estimators' : 50,'learning_rate': 0.01,'Nestrov' : False,'subsample': 0.5,'min_samples_split': 10,\n",
    "                    'max_depth': 2,'validation_fraction':1,'metrics':'logloss','dist':'normal','sigma':2,'random_state' : 0}\n",
    "    \n",
    "    data_name    = dataName\n",
    "    title        = 'Loss=LogLoss,Data='+data_name+' Test Fold='+str(test_fold)\n",
    "    file_name    = title+'.png'\n",
    "    \n",
    "    gb_manual = generate_result(X,y_lower,y_higher,param,X_val,y_lower_val,y_higher_val)\n",
    "    chart_creation(gb_manual,title,file_name)"
   ]
  }
 ],
 "metadata": {
  "kernelspec": {
   "display_name": "Python 3",
   "language": "python",
   "name": "python3"
  },
  "language_info": {
   "codemirror_mode": {
    "name": "ipython",
    "version": 3
   },
   "file_extension": ".py",
   "mimetype": "text/x-python",
   "name": "python",
   "nbconvert_exporter": "python",
   "pygments_lexer": "ipython3",
   "version": "3.7.3"
  }
 },
 "nbformat": 4,
 "nbformat_minor": 2
}
