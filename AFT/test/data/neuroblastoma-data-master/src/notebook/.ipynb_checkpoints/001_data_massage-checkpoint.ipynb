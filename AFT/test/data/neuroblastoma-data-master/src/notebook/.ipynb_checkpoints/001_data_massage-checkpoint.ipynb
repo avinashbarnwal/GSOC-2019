{
 "cells": [
  {
   "cell_type": "code",
   "execution_count": 1,
   "metadata": {},
   "outputs": [],
   "source": [
    "import numpy                                   as np\n",
    "import pandas                                  as pd\n",
    "import matplotlib.pyplot                       as plt\n",
    "import math\n",
    "import random\n",
    "from   sklearn                                 import ensemble\n",
    "from   sklearn                                 import datasets\n",
    "from   sklearn.utils                           import shuffle\n",
    "from   sklearn.metrics                         import mean_squared_error\n",
    "from   sklearn.datasets                        import load_boston\n",
    "from   sklearn.model_selection                 import cross_val_score\n",
    "from   sklearn.tree                            import DecisionTreeRegressor\n",
    "from   sklearn.model_selection                 import train_test_split\n",
    "from   sklearn.ensemble._gradient_boosting     import predict_stages\n",
    "from   sklearn.ensemble._gradient_boosting     import predict_stage\n",
    "from   abc                                     import abstractmethod\n",
    "from   scipy.special                           import expit\n",
    "from   sklearn.utils                           import check_array\n",
    "from   sklearn.tree._tree                      import DTYPE\n",
    "from   sklearn.tree._tree                      import TREE_LEAF\n",
    "from   scipy.special                           import logsumexp\n",
    "from   sklearn.utils                           import check_random_state\n",
    "from   sklearn.ensemble.gradient_boosting      import ZeroEstimator\n",
    "from   _aft_loss                               import loss, negative_gradient,hessian\n",
    "from   gb_aft                                  import GradientBoostingClassifier,chart_creation,generate_result\n",
    "import sys\n",
    "import graphviz\n",
    "import xgboost\n",
    "sys.setrecursionlimit(10000)"
   ]
  },
  {
   "cell_type": "code",
   "execution_count": 2,
   "metadata": {},
   "outputs": [],
   "source": [
    "def getInputOutputFolder(fileFlag=None):\n",
    "    f  = open(\"data_file.txt\", \"r\")\n",
    "    i  = 0\n",
    "    for l in f.readlines():\n",
    "        if fileFlag<32:\n",
    "            if i==fileFlag:\n",
    "                foldName = l[:-1]\n",
    "        if fileFlag==32:\n",
    "            if i==fileFlag:\n",
    "                foldName = l\n",
    "        \n",
    "        i = i+1\n",
    "    f.close()\n",
    "    dataNameSplit = foldName.split(\"/\")\n",
    "    inputFileName  = '../../data/'+ dataNameSplit[1]+'/inputs.csv'\n",
    "    outputFileName = '../../data/'+ dataNameSplit[1]+'/outputs.csv'\n",
    "    foldName       = '../../'+foldName\n",
    "    return inputFileName,outputFileName,foldName,dataNameSplit[1]"
   ]
  },
  {
   "cell_type": "code",
   "execution_count": 3,
   "metadata": {},
   "outputs": [
    {
     "name": "stdout",
     "output_type": "stream",
     "text": [
      "../../data/systematic/inputs.csv\n",
      "../../data/systematic/outputs.csv\n",
      "../../data/systematic/cv/R-3.6.0-chrom/folds.csv\n",
      "systematic\n"
     ]
    }
   ],
   "source": [
    "# Input the File Number\n",
    "# Not Working - 17,18,19,20,21,22,23,24,25\n",
    "fileFlag = 25\n",
    "inputFileName,outputFileName,foldName,dataName = getInputOutputFolder(fileFlag)\n",
    "print(inputFileName)\n",
    "print(outputFileName)\n",
    "print(foldName)\n",
    "print(dataName)"
   ]
  },
  {
   "cell_type": "code",
   "execution_count": 4,
   "metadata": {},
   "outputs": [
    {
     "name": "stdout",
     "output_type": "stream",
     "text": [
      "[1 2 3 4 5 6]\n"
     ]
    }
   ],
   "source": [
    "input     = pd.read_csv(inputFileName)\n",
    "label     = pd.read_csv(outputFileName)\n",
    "folds     = pd.read_csv(foldName)\n",
    "folds_iter = folds['fold'].unique()\n",
    "print(folds_iter)\n",
    "input.replace([np.inf, -np.inf], np.nan,inplace=True)"
   ]
  },
  {
   "cell_type": "code",
   "execution_count": 5,
   "metadata": {},
   "outputs": [],
   "source": [
    "colnames       = input.columns.values\n",
    "colnamesSeries = input.isna().sum()\n",
    "nullColnames   = list(colnamesSeries.index[colnamesSeries>0].values)\n",
    "nullColnames.append('sequenceID')\n",
    "colnames       = [x for x in colnames if x not in nullColnames]"
   ]
  },
  {
   "cell_type": "code",
   "execution_count": null,
   "metadata": {},
   "outputs": [],
   "source": [
    "for i in folds_iter:\n",
    "    test_fold    = i\n",
    "    test_id      = folds[folds[\"fold\"]==i]['sequenceID']\n",
    "    train_id     = folds[folds[\"fold\"]!=i]['sequenceID']\n",
    "    nullId       = label[(label['min.log.lambda']==-float('inf'))&(label['max.log.lambda']==float('inf'))]['sequenceID']\n",
    "    X            = input[input['sequenceID'].isin(train_id)&(~input['sequenceID'].isin(nullId))]\n",
    "    X_val        = input[input['sequenceID'].isin(test_id)&(~input['sequenceID'].isin(nullId))]\n",
    "    \n",
    "    X            = X[colnames]\n",
    "    X_val        = X_val[colnames]\n",
    "    y_label      = label[label['sequenceID'].isin(train_id)&(~label['sequenceID'].isin(nullId))]\n",
    "    y_label_test = label[label['sequenceID'].isin(test_id)&(~label['sequenceID'].isin(nullId))]\n",
    "    \n",
    "    \n",
    "    y_lower      = np.array(list(map(lambda x: x if x == float('inf') or x == -float('inf') else np.exp(x),y_label['min.log.lambda'])))\n",
    "    y_higher     = np.array(list(map(lambda x: x if x == float('inf') or x == -float('inf') else np.exp(x),y_label['max.log.lambda'])))\n",
    "    y_lower_val  = np.array(list(map(lambda x: x if x == float('inf') or x == -float('inf') else np.exp(x),y_label_test['min.log.lambda'])))\n",
    "    y_higher_val = np.array(list(map(lambda x: x if x == float('inf') or x == -float('inf') else np.exp(x),y_label_test['max.log.lambda'])))\n",
    "    \n",
    "    param        = {'n_estimators' : 50,'learning_rate': 0.01,'Nestrov' : False,'subsample': 0.5,'min_samples_split': 10,\n",
    "                    'max_depth': 2,'validation_fraction':1,'metrics':'logloss','dist':'normal','sigma':2,'random_state' : 0}\n",
    "    \n",
    "    data_name    = dataName\n",
    "    title        = 'Loss=LogLoss,Data='+data_name+' Test Fold='+str(test_fold)\n",
    "    file_name    = title+'.png'\n",
    "    \n",
    "    gb_manual = generate_result(X,y_lower,y_higher,param,X_val,y_lower_val,y_higher_val)\n",
    "    chart_creation(gb_manual,title,file_name)"
   ]
  },
  {
   "cell_type": "code",
   "execution_count": 6,
   "metadata": {},
   "outputs": [],
   "source": [
    "test_fold    = 1\n",
    "test_id      = folds[folds[\"fold\"]==1]['sequenceID']\n",
    "train_id     = folds[folds[\"fold\"]!=1]['sequenceID']\n",
    "nullId       = label[(label['min.log.lambda']==-float('inf'))&(label['max.log.lambda']==float('inf'))]['sequenceID']\n",
    "X            = input[input['sequenceID'].isin(train_id)&(~input['sequenceID'].isin(nullId))]\n",
    "X_val        = input[input['sequenceID'].isin(test_id)&(~input['sequenceID'].isin(nullId))]\n",
    "    \n",
    "X            = X[colnames]\n",
    "X_val        = X_val[colnames]\n",
    "y_label      = label[label['sequenceID'].isin(train_id)&(~label['sequenceID'].isin(nullId))]\n",
    "y_label_test = label[label['sequenceID'].isin(test_id)&(~label['sequenceID'].isin(nullId))]\n",
    "    \n",
    "    \n",
    "y_lower      = np.array(list(map(lambda x: x if x == float('inf') or x == -float('inf') else np.exp(x),y_label['min.log.lambda'])))\n",
    "y_higher     = np.array(list(map(lambda x: x if x == float('inf') or x == -float('inf') else np.exp(x),y_label['max.log.lambda'])))\n",
    "y_lower_val  = np.array(list(map(lambda x: x if x == float('inf') or x == -float('inf') else np.exp(x),y_label_test['min.log.lambda'])))\n",
    "y_higher_val = np.array(list(map(lambda x: x if x == float('inf') or x == -float('inf') else np.exp(x),y_label_test['max.log.lambda'])))\n"
   ]
  },
  {
   "cell_type": "code",
   "execution_count": 7,
   "metadata": {},
   "outputs": [],
   "source": [
    "dtrain = xgboost.DMatrix(X)\n",
    "dtrain.set_float_info(\"label_lower_bound\",y_lower)\n",
    "dtrain.set_float_info(\"label_upper_bound\",y_higher)"
   ]
  },
  {
   "cell_type": "code",
   "execution_count": 8,
   "metadata": {},
   "outputs": [],
   "source": [
    "dtest = xgboost.DMatrix(X_val)\n",
    "dtest.set_float_info(\"label_lower_bound\",y_lower_val)\n",
    "dtest.set_float_info(\"label_upper_bound\",y_higher_val)"
   ]
  },
  {
   "cell_type": "code",
   "execution_count": 9,
   "metadata": {},
   "outputs": [],
   "source": [
    "params = {'aft_noise_distribution' : 'normal', 'aft_sigma': 1.0,'eval_metric':'aft-nloglik@normal,1.0','objective':\"aft:survival\"}"
   ]
  },
  {
   "cell_type": "code",
   "execution_count": 12,
   "metadata": {},
   "outputs": [
    {
     "ename": "XGBoostError",
     "evalue": "b'[08:49:50] src/metric/metric.cc:30: Unknown metric function aft-nloglik@normal,1.0\\n\\nStack trace returned 1 entries:\\n[bt] (0) 0   libxgboost.dylib                    0x0000000116642a13 dmlc::StackTrace[abi:cxx11](unsigned long) + 115\\n\\n'",
     "output_type": "error",
     "traceback": [
      "\u001b[0;31m---------------------------------------------------------------------------\u001b[0m",
      "\u001b[0;31mXGBoostError\u001b[0m                              Traceback (most recent call last)",
      "\u001b[0;32m<ipython-input-12-edfae0a0ca87>\u001b[0m in \u001b[0;36m<module>\u001b[0;34m\u001b[0m\n\u001b[1;32m      1\u001b[0m \u001b[0mres\u001b[0m \u001b[0;34m=\u001b[0m \u001b[0;34m{\u001b[0m\u001b[0;34m}\u001b[0m\u001b[0;34m\u001b[0m\u001b[0;34m\u001b[0m\u001b[0m\n\u001b[0;32m----> 2\u001b[0;31m \u001b[0mbst\u001b[0m \u001b[0;34m=\u001b[0m \u001b[0mxgboost\u001b[0m\u001b[0;34m.\u001b[0m\u001b[0mtrain\u001b[0m\u001b[0;34m(\u001b[0m\u001b[0mparams\u001b[0m\u001b[0;34m,\u001b[0m\u001b[0mdtrain\u001b[0m\u001b[0;34m,\u001b[0m\u001b[0mnum_boost_round\u001b[0m\u001b[0;34m=\u001b[0m\u001b[0;36m10\u001b[0m\u001b[0;34m,\u001b[0m\u001b[0mevals\u001b[0m\u001b[0;34m=\u001b[0m\u001b[0;34m[\u001b[0m\u001b[0;34m(\u001b[0m\u001b[0mdtrain\u001b[0m\u001b[0;34m,\u001b[0m\u001b[0;34m\"train\"\u001b[0m\u001b[0;34m)\u001b[0m\u001b[0;34m,\u001b[0m\u001b[0;34m(\u001b[0m\u001b[0mdtest\u001b[0m\u001b[0;34m,\u001b[0m\u001b[0;34m\"test\"\u001b[0m\u001b[0;34m)\u001b[0m\u001b[0;34m]\u001b[0m\u001b[0;34m,\u001b[0m\u001b[0mevals_result\u001b[0m\u001b[0;34m=\u001b[0m\u001b[0mres\u001b[0m\u001b[0;34m)\u001b[0m\u001b[0;34m\u001b[0m\u001b[0;34m\u001b[0m\u001b[0m\n\u001b[0m",
      "\u001b[0;32m/usr/local/lib/python3.7/site-packages/xgboost/training.py\u001b[0m in \u001b[0;36mtrain\u001b[0;34m(params, dtrain, num_boost_round, evals, obj, feval, maximize, early_stopping_rounds, evals_result, verbose_eval, xgb_model, callbacks, learning_rates)\u001b[0m\n\u001b[1;32m    214\u001b[0m                            \u001b[0mevals\u001b[0m\u001b[0;34m=\u001b[0m\u001b[0mevals\u001b[0m\u001b[0;34m,\u001b[0m\u001b[0;34m\u001b[0m\u001b[0;34m\u001b[0m\u001b[0m\n\u001b[1;32m    215\u001b[0m                            \u001b[0mobj\u001b[0m\u001b[0;34m=\u001b[0m\u001b[0mobj\u001b[0m\u001b[0;34m,\u001b[0m \u001b[0mfeval\u001b[0m\u001b[0;34m=\u001b[0m\u001b[0mfeval\u001b[0m\u001b[0;34m,\u001b[0m\u001b[0;34m\u001b[0m\u001b[0;34m\u001b[0m\u001b[0m\n\u001b[0;32m--> 216\u001b[0;31m                            xgb_model=xgb_model, callbacks=callbacks)\n\u001b[0m\u001b[1;32m    217\u001b[0m \u001b[0;34m\u001b[0m\u001b[0m\n\u001b[1;32m    218\u001b[0m \u001b[0;34m\u001b[0m\u001b[0m\n",
      "\u001b[0;32m/usr/local/lib/python3.7/site-packages/xgboost/training.py\u001b[0m in \u001b[0;36m_train_internal\u001b[0;34m(params, dtrain, num_boost_round, evals, obj, feval, xgb_model, callbacks)\u001b[0m\n\u001b[1;32m     72\u001b[0m         \u001b[0;31m# Skip the first update if it is a recovery step.\u001b[0m\u001b[0;34m\u001b[0m\u001b[0;34m\u001b[0m\u001b[0;34m\u001b[0m\u001b[0m\n\u001b[1;32m     73\u001b[0m         \u001b[0;32mif\u001b[0m \u001b[0mversion\u001b[0m \u001b[0;34m%\u001b[0m \u001b[0;36m2\u001b[0m \u001b[0;34m==\u001b[0m \u001b[0;36m0\u001b[0m\u001b[0;34m:\u001b[0m\u001b[0;34m\u001b[0m\u001b[0;34m\u001b[0m\u001b[0m\n\u001b[0;32m---> 74\u001b[0;31m             \u001b[0mbst\u001b[0m\u001b[0;34m.\u001b[0m\u001b[0mupdate\u001b[0m\u001b[0;34m(\u001b[0m\u001b[0mdtrain\u001b[0m\u001b[0;34m,\u001b[0m \u001b[0mi\u001b[0m\u001b[0;34m,\u001b[0m \u001b[0mobj\u001b[0m\u001b[0;34m)\u001b[0m\u001b[0;34m\u001b[0m\u001b[0;34m\u001b[0m\u001b[0m\n\u001b[0m\u001b[1;32m     75\u001b[0m             \u001b[0mbst\u001b[0m\u001b[0;34m.\u001b[0m\u001b[0msave_rabit_checkpoint\u001b[0m\u001b[0;34m(\u001b[0m\u001b[0;34m)\u001b[0m\u001b[0;34m\u001b[0m\u001b[0;34m\u001b[0m\u001b[0m\n\u001b[1;32m     76\u001b[0m             \u001b[0mversion\u001b[0m \u001b[0;34m+=\u001b[0m \u001b[0;36m1\u001b[0m\u001b[0;34m\u001b[0m\u001b[0;34m\u001b[0m\u001b[0m\n",
      "\u001b[0;32m/usr/local/lib/python3.7/site-packages/xgboost/core.py\u001b[0m in \u001b[0;36mupdate\u001b[0;34m(self, dtrain, iteration, fobj)\u001b[0m\n\u001b[1;32m   1108\u001b[0m         \u001b[0;32mif\u001b[0m \u001b[0mfobj\u001b[0m \u001b[0;32mis\u001b[0m \u001b[0;32mNone\u001b[0m\u001b[0;34m:\u001b[0m\u001b[0;34m\u001b[0m\u001b[0;34m\u001b[0m\u001b[0m\n\u001b[1;32m   1109\u001b[0m             _check_call(_LIB.XGBoosterUpdateOneIter(self.handle, ctypes.c_int(iteration),\n\u001b[0;32m-> 1110\u001b[0;31m                                                     dtrain.handle))\n\u001b[0m\u001b[1;32m   1111\u001b[0m         \u001b[0;32melse\u001b[0m\u001b[0;34m:\u001b[0m\u001b[0;34m\u001b[0m\u001b[0;34m\u001b[0m\u001b[0m\n\u001b[1;32m   1112\u001b[0m             \u001b[0mpred\u001b[0m \u001b[0;34m=\u001b[0m \u001b[0mself\u001b[0m\u001b[0;34m.\u001b[0m\u001b[0mpredict\u001b[0m\u001b[0;34m(\u001b[0m\u001b[0mdtrain\u001b[0m\u001b[0;34m)\u001b[0m\u001b[0;34m\u001b[0m\u001b[0;34m\u001b[0m\u001b[0m\n",
      "\u001b[0;32m/usr/local/lib/python3.7/site-packages/xgboost/core.py\u001b[0m in \u001b[0;36m_check_call\u001b[0;34m(ret)\u001b[0m\n\u001b[1;32m    176\u001b[0m     \"\"\"\n\u001b[1;32m    177\u001b[0m     \u001b[0;32mif\u001b[0m \u001b[0mret\u001b[0m \u001b[0;34m!=\u001b[0m \u001b[0;36m0\u001b[0m\u001b[0;34m:\u001b[0m\u001b[0;34m\u001b[0m\u001b[0;34m\u001b[0m\u001b[0m\n\u001b[0;32m--> 178\u001b[0;31m         \u001b[0;32mraise\u001b[0m \u001b[0mXGBoostError\u001b[0m\u001b[0;34m(\u001b[0m\u001b[0m_LIB\u001b[0m\u001b[0;34m.\u001b[0m\u001b[0mXGBGetLastError\u001b[0m\u001b[0;34m(\u001b[0m\u001b[0;34m)\u001b[0m\u001b[0;34m)\u001b[0m\u001b[0;34m\u001b[0m\u001b[0;34m\u001b[0m\u001b[0m\n\u001b[0m\u001b[1;32m    179\u001b[0m \u001b[0;34m\u001b[0m\u001b[0m\n\u001b[1;32m    180\u001b[0m \u001b[0;34m\u001b[0m\u001b[0m\n",
      "\u001b[0;31mXGBoostError\u001b[0m: b'[08:49:50] src/metric/metric.cc:30: Unknown metric function aft-nloglik@normal,1.0\\n\\nStack trace returned 1 entries:\\n[bt] (0) 0   libxgboost.dylib                    0x0000000116642a13 dmlc::StackTrace[abi:cxx11](unsigned long) + 115\\n\\n'"
     ]
    }
   ],
   "source": [
    "res = {}\n",
    "bst = xgboost.train(params,dtrain,num_boost_round=10,evals=[(dtrain,\"train\"),(dtest,\"test\")],evals_result=res)"
   ]
  },
  {
   "cell_type": "code",
   "execution_count": 21,
   "metadata": {},
   "outputs": [
    {
     "data": {
      "text/plain": [
       "[<matplotlib.lines.Line2D at 0x11dc45b00>]"
      ]
     },
     "execution_count": 21,
     "metadata": {},
     "output_type": "execute_result"
    },
    {
     "data": {
      "image/png": "[encoded data removed]",
      "text/plain": [
       "<Figure size 432x288 with 1 Axes>"
      ]
     },
     "metadata": {
      "needs_background": "light"
     },
     "output_type": "display_data"
    }
   ],
   "source": [
    "plt.plot(res['train']['normal,1.0'])\n",
    "plt.plot(res['test']['normal,1.0'])"
   ]
  }
 ],
 "metadata": {
  "kernelspec": {
   "display_name": "Python 3",
   "language": "python",
   "name": "python3"
  },
  "language_info": {
   "codemirror_mode": {
    "name": "ipython",
    "version": 3
   },
   "file_extension": ".py",
   "mimetype": "text/x-python",
   "name": "python",
   "nbconvert_exporter": "python",
   "pygments_lexer": "ipython3",
   "version": "3.7.3"
  }
 },
 "nbformat": 4,
 "nbformat_minor": 2
}
