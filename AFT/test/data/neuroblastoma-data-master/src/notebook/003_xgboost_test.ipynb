{
 "cells": [
  {
   "cell_type": "code",
   "execution_count": 1,
   "metadata": {},
   "outputs": [],
   "source": [
    "import xgboost\n",
    "import pandas            as pd\n",
    "import numpy             as np\n",
    "import matplotlib.pyplot as plt\n",
    "import random"
   ]
  },
  {
   "cell_type": "code",
   "execution_count": 4,
   "metadata": {},
   "outputs": [],
   "source": [
    "def get_file_name(name='atac'):\n",
    "    \n",
    "    if name=='atac':\n",
    "        firstFilepath   = 'https://raw.githubusercontent.com/avinashbarnwal/GSOC-2019/master/AFT/test/data/neuroblastoma-data-master/data/ATAC_JV_adipose/'\n",
    "        inputFileName   = firstFilepath + 'inputs.csv'\n",
    "        labelsFileName  = firstFilepath + 'outputs.csv'\n",
    "        foldsFileName   = firstFilepath + 'cv/equal_labels/folds.csv'"
   ]
  },
  {
   "cell_type": "code",
   "execution_count": 5,
   "metadata": {},
   "outputs": [],
   "source": [
    "def get_data(inputFileName,labelsFileName,foldsFileName):\n",
    "    inputData       = pd.read_csv(inputFileName)\n",
    "    labelData       = pd.read_csv(labelsFileName)\n",
    "    foldData        = pd.read_csv(foldsFileName)"
   ]
  },
  {
   "cell_type": "code",
   "execution_count": 6,
   "metadata": {},
   "outputs": [],
   "source": [
    "def dataMassage(data):\n",
    "    data.replace([np.inf, -np.inf], np.nan,inplace=True)\n",
    "    colnames       = data.columns.values\n",
    "    colnamesSeries = data.isna().sum()\n",
    "    nullColnames   = list(colnamesSeries.index[colnamesSeries>0].values)\n",
    "    nullColnames.append('sequenceID')\n",
    "    colnames       = [x for x in colnames if x not in nullColnames]\n",
    "    return data,colnames"
   ]
  },
  {
   "cell_type": "code",
   "execution_count": null,
   "metadata": {},
   "outputs": [],
   "source": [
    "test_id      = folds[folds[\"fold\"]==i]['sequenceID']\n",
    "    train_id     = folds[folds[\"fold\"]!=i]['sequenceID']\n",
    "    nullId       = label[(label['min.log.lambda']==-float('inf'))&(label['max.log.lambda']==float('inf'))]['sequenceID']\n",
    "    X            = input[input['sequenceID'].isin(train_id)&(~input['sequenceID'].isin(nullId))]\n",
    "    X_val        = input[input['sequenceID'].isin(test_id)&(~input['sequenceID'].isin(nullId))]\n",
    "    \n",
    "    X            = X[colnames]\n",
    "    X_val        = X_val[colnames]\n",
    "    y_label      = label[label['sequenceID'].isin(train_id)&(~label['sequenceID'].isin(nullId))]\n",
    "    y_label_test = label[label['sequenceID'].isin(test_id)&(~label['sequenceID'].isin(nullId))]\n",
    "    \n",
    "    y_lower      = np.array(list(map(lambda x: x if x == float('inf') else np.exp(x),y_label['min.log.lambda'])))\n",
    "    y_higher     = np.array(list(map(lambda x: x if x == float('inf') else np.exp(x),y_label['max.log.lambda'])))\n",
    "    y_lower_val  = np.array(list(map(lambda x: x if x == float('inf') else np.exp(x),y_label_test['min.log.lambda'])))\n",
    "    y_higher_val = np.array(list(map(lambda x: x if x == float('inf') else np.exp(x),y_label_test['max.log.lambda'])))"
   ]
  }
 ],
 "metadata": {
  "kernelspec": {
   "display_name": "Python 3",
   "language": "python",
   "name": "python3"
  },
  "language_info": {
   "codemirror_mode": {
    "name": "ipython",
    "version": 3
   },
   "file_extension": ".py",
   "mimetype": "text/x-python",
   "name": "python",
   "nbconvert_exporter": "python",
   "pygments_lexer": "ipython3",
   "version": "3.7.3"
  }
 },
 "nbformat": 4,
 "nbformat_minor": 2
}
