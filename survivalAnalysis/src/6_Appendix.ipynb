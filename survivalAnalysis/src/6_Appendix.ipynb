{
 "cells": [
  {
   "cell_type": "markdown",
   "metadata": {},
   "source": [
    "##Appendix A: Parametric Model Results with Different Optimization Methods\n",
    "\n",
    "This section summarizes the results from using different optimization methods in the Generallikelihood package: The default method, Newton-Raphson (newton), Nelder-Mead (nm),Broyden-Fletcher-Goldfarb-Shanno (bfgs),limited memory BFGS (lbfgs),Powell's method,conjugate gradient (cg) , Newton-conjugate gradient (ncg),global basin-hopping solver (basinhopping). \n",
    "\n",
    "####Results from different optimization methods: AIC/BIC or the error message\n",
    "| Optimization method |  Exponential  |Weibull         |Gompertz        |Log-logistic     |Log-normal       |Generalized Gamma|\n",
    "|---|---------------|----------------|----------------|-----------------|-----------------|-----------------|\n",
    "|  Default   |  2220/2225 |  2216/2220 | 2212/2217 |  2210/2214  |  2198/2202   | Does not finish calculation   |\n",
    "| Newton  | Unsupported operand type  | Unsupported operand type  | Unsupported operand type | Unsupported operand type  | Unsupported operand type  | Unsupported operand type  | \n",
    "|nm  |2220/2225  | 2216/2220 |2212/2217 |2210/2214  |2198/2202|Does not finish calculation|\n",
    "|bfgs  |need covariance of parameters for computing (unnormalized) covariances  |need covariance of parameters for computing (unnormalized) covariances  | need covariance of parameters for computing (unnormalized) covariances |NaN results  |NaN results  |need covariance of parameters for computing (unnormalized) covariances|\n",
    "|lbfgs  |8921/8925  |Convergence warning  | need covariance of parameters for computing (unnormalized) covariances |NaN results   |NaN results   |2197/2201 |\n",
    "|powell  |Convergence warning  |Convergence warning  | 2212/2217 |NaN results  |2260/2265  |need covariance of parameters for computing (unnormalized) covariances   |\n",
    "|cg  |need covariance of parameters for computing (unnormalized) covariances   |need covariance of parameters for computing (unnormalized) covariances   | need covariance of parameters for computing (unnormalized) covariances  |NaN results  |NaN results  |2197/2201  |\n",
    "|ncg  |Unsupported operand type   |2216/2220  | Unsupported operand type  |Convergene warning  |Convergene warning    |2197/2201 |\n",
    "|Basinhopping  |need covariance of parameters for computing (unnormalized) covariances    |need covariance of parameters for computing (unnormalized) covariances    | need covariance of parameters for computing (unnormalized) covariances   |NaN results   |NaN results   |need covariance of parameters for computing (unnormalized) covariances|\n",
    "\n",
    "\n",
    "\n",
    "####Results from different optimization methods, Proportional Hazards assumption: AIC/BIC or the error message\n",
    "| Optimization method |  Exponential  |Weibull         |Gompertz        |Log-logistic     |\n",
    "|---|---------------|----------------|----------------|-----------------|\n",
    "|  Default   |  2333/2409 |  Convergence warning | 2366/2443 |  Covergence Warning  |\n",
    "| Newton  | 2190/2266 | 2187/2264 | Unsupported operand type | Unsupported operand type  |\n",
    "|nm  |2333/2409  | Convergence warning |2366/2443|Convergence warning |\n",
    "|bfgs  |2190/2266 |2187/2264  | Unsupported operand type |Convergenge warning |\n",
    "|lbfgs  |2190/2266 |113000/113100|17010/17080|Convergence warning|\n",
    "|powell  |2190/2266 |2189/2265| Convergence warning|2173/2249|\n",
    "|cg  |Convergence warning  |1069000/1069000| Convergence warning|Convergence warning  |\n",
    "|ncg  |2190/2266|Convergence warning |2184/2261 |Convergene warning  |\n",
    "|Basinhopping  |2190/2266|2187/2264|Convergence warning|3967/4044|\n",
    "\n",
    "\n",
    "\n",
    "####Results from different optimization methods, Accelerated Failure Time assumption: AIC/BIC or the error message\n",
    "| Optimization method |  Exponential  |Weibull         |Log-logistic        |Log-normal     | Generalized Gamma   |\n",
    "|---|---------------|----------------|----------------|-----------------|-----|\n",
    "|  Default   |  Convergene warning |  Convergence warning |   Convergene warning |  Covergence Warning  |    Convergene warning |\n",
    "| Newton  | 2190/2266 | Does not finish calculation | Unsupported operand type | Unsupported operand type  | Does not finish calculation    |\n",
    "|nm  |Convergence warning | Convergence warning |Convergence warning|Convergence warning |  Convergence warning   |\n",
    "|bfgs  |2190/2266 |2187/2264  | 2173/2249 |Convergenge warning |Convergenge warning      |\n",
    "|lbfgs  |2190/2266 |2187/2264|2173/2249|2160/2236|2364/2440     |\n",
    "|powell  |2190/2266 |2188/2264| 2173/2249|Convergence warning|2876/2952     |\n",
    "|cg  |Convergence warning  |2187/2264|2173/2249|Convergence warning  |2150/2226     |\n",
    "|ncg  |2190/2266|2187/2264 |2173/2249 |2160/2236  |2150/2226     |\n",
    "|Basinhopping  |2190/2266|2187/2264 |2173/2249 |Nan results |2150/2226     |\n"
   ]
  }
 ],
 "metadata": {
  "celltoolbar": "Edit Metadata",
  "kernelspec": {
   "display_name": "Python 2",
   "language": "python",
   "name": "python2"
  },
  "language_info": {
   "codemirror_mode": {
    "name": "ipython",
    "version": 2
   },
   "file_extension": ".py",
   "mimetype": "text/x-python",
   "name": "python",
   "nbconvert_exporter": "python",
   "pygments_lexer": "ipython2",
   "version": "2.7.8"
  }
 },
 "nbformat": 4,
 "nbformat_minor": 0
}
