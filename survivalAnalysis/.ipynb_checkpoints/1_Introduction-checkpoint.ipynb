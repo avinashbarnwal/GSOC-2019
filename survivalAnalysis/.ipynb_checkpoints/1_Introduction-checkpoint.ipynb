{
 "cells": [
  {
   "cell_type": "markdown",
   "metadata": {},
   "source": [
    "**Survival Analysis with Python**\n"
   ]
  },
  {
   "cell_type": "markdown",
   "metadata": {},
   "source": [
    "\n",
    "This notebook demonstrates the basics of survival analysis, a method used for analyzing time to event data, using Python. It has 6 sections. \n",
    "\n",
    "- A brief introduction to survival analysis and the data used in this notebook\n",
    "\n",
    "- Non-parametric methods: Kaplan-meier curves, Log-rank test statistic for $\\geq2$ groups\n",
    "\n",
    "- Semi-parametric methods: Cox proportional hazard model, Schoenfeld residuals, log-log plots\n",
    "\n",
    "- Parametric methods:\n",
    "    - Exponential (accelerated failure time (AFT)\n",
    "    - Proportional hazards (PH))\n",
    "    - Weibull (AFT, PH)\n",
    "    - Gompertz (PH)\n",
    "    - Log-logistic (proportional odds (PO))\n",
    "    - Log-normal (AFT)\n",
    "    - Generalized Gamma (AFT) \n",
    "\n",
    "- Constructing confidence intervals for survival predictions for the models in section 4\n",
    "\n",
    "- Appendix A: Parametric Model Results with Different Optimization Methods"
   ]
  },
  {
   "cell_type": "markdown",
   "metadata": {},
   "source": [
    "**A brief introduction to survival analysis and the data used in this notebook**"
   ]
  },
  {
   "cell_type": "markdown",
   "metadata": {},
   "source": [
    "Survival analysis is a collection of methods to analyse time to event data. A key part of survival analysis is the modeling of the contribution of censored observations to model likelihood. Censored observations are those for which we have not observed the event (also called right-censoring). The event could be the death of a patient, diagnosis of a disease, failure of a machine part and in this analysis, it is defined as the end of terrorist groups. In the dataset that we will use, not all terrorist groups ended until the end of the observation period. Survival analysis is a suitable method to analyze the factors that influence the time to end of these groups. One very important assumption of survival analysis is that the time to event for censored terror groups does not systematically differ from those whose end we have observed. \n",
    "\n",
    "If time to event has the probability density function $f(t)$ and cumulative distribution function $F(t)$, then the probability of surviving at least to time $t$ is: $Pr(T>t)=S(t)=1-F(t)$. Cumulative hazard at time t is defined as $H(t)=-ln(S(t))$ and instantaneous hazard at time $t$ is $h(t)=\\frac{dH(t)}{dt}$. The instantateous hazard can also be written as $h(t)=\\frac{f(t)}{S(t)}$\n",
    "\n",
    "The likelihood function for survival analysis is described as:\n",
    "\n",
    "$$ l(\\beta) = \\prod_{n=1}^{n} h(t_{i})^{d_{i}} S(t_{i}) $$\n",
    "\n",
    "where $d_i$ is the censoring variable that equals to 1 if the event is observed for individual $i$ and 0 if the event is not observed (censored) for individual $i$, $h(t_i)$ is the hazard for individual $i$ at time $t$, $H(t_i)$ is the cumulative hazard for individual $i$ at time $t$, and $S(t_i)$ is the survival probability for individual $i$ at time $t$. Note that when $d_i=0$, the contribution of the $i$'th individual to the likelihood function is just its survival probability until time $t$: S(t). If the individual has the event, the contribution to the likelihood function is given by the density function $f(t)=h(t)S(t)$.\n",
    "\n",
    "The log of likelihood is:\n",
    "\n",
    "$$ logl(\\beta) = \\sum_{i=1}^n d_i log(h(t_i)) - H(t_i) $$\n",
    "\n",
    "where $log$  is the natural logarithm.\n"
   ]
  },
  {
   "cell_type": "markdown",
   "metadata": {},
   "source": [
    "**Data Description**"
   ]
  },
  {
   "cell_type": "markdown",
   "metadata": {},
   "source": [
    "The dataset used here is from Jones and Libicki 'How Terrorist Groups End' (Santa Monica, 2008, RAND Corporation). The full report can be found here:\n",
    "\n",
    "http://www.rand.org/content/dam/rand/pubs/monographs/2008/RAND_MG741-1.pdf\n",
    "\n",
    "- ***Authors***     - Jones and Libicki\n",
    "- ***Data Nature*** - RAND - Oklahoma City National Memorial Institute for the Prevention of                           Terrorism (MIPT) Terrorism Incident database\n",
    "- ***Purpose***     - To investigate the factors that contribute to end of terrorist groups. \n",
    "\n",
    "The data includes starting time for 648 terrorist groups that operated between 1968 and 2006.  \n",
    "\n",
    "- 648 terrorist groups and 5 categorical variables. \n",
    "\n",
    "**Variables**\n",
    "\n",
    "**Operating Peak Size**: The peak size of the group.\n",
    "\n",
    "    Categories\n",
    "        10,000s (10,000 or more)\n",
    "        1,000s  (1,000-9,999)\n",
    "        100s    (100-999)\n",
    "        10s     (less than 100).\n",
    "\n",
    "Econ: The income level of the base country, described according to World Bank criteria in the         year in which the group ended or in 2006 if the group has not ended.\n",
    "\n",
    "    Categories\n",
    "       H  = High income($10,726 or more)\n",
    "       UM = upper middle income($3,466–$10,725)\n",
    "       LM = lower middle income($876–$3,465)\n",
    "       L  = low income($875 or less)\n",
    "\n",
    "Goal: The primary goal of the terrorist group.\n",
    "\n",
    "    Categories\n",
    "        'Regime_change'\n",
    "        'Territorial_change'\n",
    "        'Policy_change'\n",
    "        'Empire'\n",
    "        'Social_revolution'\n",
    "        'Status_Quo'\n",
    "  "
   ]
  },
  {
   "cell_type": "markdown",
   "metadata": {},
   "source": []
  },
  {
   "cell_type": "markdown",
   "metadata": {},
   "source": [
    "$100"
   ]
  },
  {
   "cell_type": "markdown",
   "metadata": {},
   "source": [
    "Before starting the analyses, we need to import the following packages."
   ]
  },
  {
   "cell_type": "code",
   "execution_count": 1,
   "metadata": {
    "collapsed": true
   },
   "outputs": [],
   "source": [
    "#We will use Pandas Dataframe object to hold our data\n",
    "#and to perform necessary manipulations to prepare the dataset\n",
    "#for analysis \n",
    "import pandas as pd\n",
    "#%matplotlib inline\n",
    "%matplotlib inline\n",
    "#Iport matplotlib.pyplot for plotting results\n",
    "import matplotlib.pyplot as plt\n",
    "#Numpy will be used to perform numerical operations on arrays\n",
    "#(calculate dot products, sums, exponentials, logarithms, find unique values)  \n",
    "import numpy as np\n",
    "#We will use scipy to calculate normal \n",
    "#distribution values\n",
    "from scipy.stats import norm\n",
    "#To set the working directory\n",
    "import os as osvariable\n",
    "#To read in csv file\n",
    "from pandas import read_csv\n",
    "#Lifelines is a survival analysis package. We will\n",
    "#use its KaplanMeier curve plotting function,\n",
    "#logrank_test and Cox proportional hazards fitter\n",
    "#http://lifelines.readthedocs.org/en/latest/\n",
    "from lifelines import KaplanMeierFitter\n",
    "from lifelines.statistics import multivariate_logrank_test   \n",
    "from lifelines.statistics import logrank_test\n",
    "from lifelines import CoxPHFitter\n",
    "#Import the statsmodels. We will use this to \n",
    "#fit linear functions to data, which will be \n",
    "#helpful to visually assess parametric fits\n",
    "#http://statsmodels.sourceforge.net/\n",
    "import statsmodels.api as st\n",
    "#Genericlikelihood model is what we will use \n",
    "#to specify log-likelihood functions for survival\n",
    "#models: Exponential (accelerated failure time (AFT), proportional hazards (PH)), \n",
    "#Weibull (AFT, PH), Gompertz (PH), Log-logistic (proportional odds (PO)), \n",
    "#Log-normal (AFT), Generalized Gamma (AFT) \n",
    "from statsmodels.base.model import GenericLikelihoodModel\n",
    "#Import the functions that will be used to calculate the \n",
    "#generalized gamma function survival and its confidence\n",
    "#intervals\n",
    "#Gamma function\n",
    "#http://docs.scipy.org/doc/scipy-0.16.0/reference/generated/scipy.stats.gamma.html\n",
    "from scipy.special import gamma as gammafunction\n",
    "#Lower regularized incomplete gamma function\n",
    "#http://docs.scipy.org/doc/scipy-0.14.0/reference/generated/scipy.special.gammainc.html\n",
    "from scipy.special import gammainc\n",
    "#Digamma function, which is used when taking the \n",
    "#derivative of the gamma function\n",
    "from scipy.special import psi\n",
    "#From mpmath library, we will use the meijer G function\n",
    "#which is part of the derivative of the incomplete gamma function\n",
    "#http://mpmath.googlecode.com/svn-history/r1229/trunk/doc/build/functions/hypergeometric.html\n",
    "import mpmath\n",
    "#from sympy library, we will use the DiracDelta function\n",
    "#which is part of the derivative of the sign function which in turn\n",
    "#is part of the generalized gamma function\n",
    "#http://docs.sympy.org/dev/modules/functions/special.html\n",
    "from sympy import DiracDelta"
   ]
  },
  {
   "cell_type": "markdown",
   "metadata": {},
   "source": [
    "Next, set the working directory, load the dataset and prepare the dataset for analysis."
   ]
  },
  {
   "cell_type": "code",
   "execution_count": 2,
   "metadata": {},
   "outputs": [
    {
     "name": "stdout",
     "output_type": "stream",
     "text": [
      "   Time  Ended Operating Peak Size Econ. Regime Type Goal    Reason\n",
      "0     3      0                 10s    LM     NF    R   RC  NotEnded\n",
      "1     9      1                100s    UM     PF   LW   RC        PO\n",
      "2    29      0                 10s    LM      F    N   TC         S\n",
      "3     6      1                 10s     H      F   LW   PC         S\n",
      "4     7      0                 10s    LM      F    R   PC         S\n",
      "Categorical variable values:\n",
      "('Type values:', array(['LW', 'N', 'R', 'RW', 'Reigious'], dtype=object))\n",
      "('Operating Peak Size values:', array(['1,000s', '1,00s', '10,000s', '100s', '10S', '10c', '10s'], dtype=object))\n",
      "('Regime values:', array(['BF', 'F', 'NF', 'PF'], dtype=object))\n",
      "('Goal values:', array(['E', 'PC', 'RC', 'SQ', 'SR', 'TC', 'TCs'], dtype=object))\n"
     ]
    }
   ],
   "source": [
    "#set working directory:\n",
    "osvariable.chdir('C:/----/----')\n",
    "#Read in data\n",
    "terrordata = read_csv('terrordata1.csv')\n",
    "#Take a look at the dataset contents, print the first 5 observations\n",
    "print(terrordata.head())\n",
    "#Check the categorical variable values\n",
    "print('Categorical variable values:')\n",
    "print('Type values:',np.unique(terrordata['Type']))\n",
    "print('Operating Peak Size values:',np.unique(terrordata['Operating Peak Size']))\n",
    "print('Regime values:',np.unique(terrordata['Regime']))\n",
    "print('Goal values:',np.unique(terrordata['Goal']))"
   ]
  },
  {
   "cell_type": "code",
   "execution_count": 3,
   "metadata": {},
   "outputs": [
    {
     "name": "stdout",
     "output_type": "stream",
     "text": [
      "['LW' 'N' 'R' 'RW']\n",
      "['1,000s' '10,000s' '100s' '10s']\n",
      "['F' 'NF' 'PF']\n",
      "['E' 'PC' 'RC' 'SQ' 'SR' 'TC']\n"
     ]
    }
   ],
   "source": [
    "#One of the entries for 'Type' is entered as 'Reigious'. This\n",
    "#should be coded as 'R'\n",
    "terrordata.loc[(terrordata['Type'] == 'Reigious'),['Type']] = 'R'\n",
    "#Correct the 'Operating Peak Size' variables that are \n",
    "#entered incorrectly\n",
    "terrordata.loc[(terrordata['Operating Peak Size'] == '10S'),['Operating Peak Size']] = '10s'\n",
    "terrordata.loc[(terrordata['Operating Peak Size'] == '10c'),['Operating Peak Size']] = '10s'\n",
    "terrordata.loc[(terrordata['Operating Peak Size'] == '1,00s'),['Operating Peak Size']] = '1,000s'\n",
    "#One of the entries for 'Regime' is entered incorrectly as 'BF'\n",
    "terrordata.loc[(terrordata['Regime'] == 'BF'),['Regime']] = 'NF'\n",
    "#One of the entries for 'Goal' is entered incorrectly as 'TCs'\n",
    "terrordata.loc[(terrordata['Goal'] == 'TCs'),['Goal']] = 'TC'\n",
    "#Check the categorical variable values again\n",
    "print(np.unique(terrordata['Type']))\n",
    "print(np.unique(terrordata['Operating Peak Size']))\n",
    "print(np.unique(terrordata['Regime']))\n",
    "print(np.unique(terrordata['Goal']))"
   ]
  },
  {
   "cell_type": "code",
   "execution_count": 4,
   "metadata": {},
   "outputs": [
    {
     "name": "stdout",
     "output_type": "stream",
     "text": [
      "Categorical variable values:\n",
      "('Type values:', array(['LW', 'N', 'R', 'RW'], dtype=object))\n",
      "('Operating Peak Size values:', array(['1,000s', '10,000s', '100s', '10s'], dtype=object))\n",
      "('Regime values:', array(['F', 'NF', 'PF'], dtype=object))\n",
      "('Goal values:', array(['E', 'PC', 'RC', 'SQ', 'SR', 'TC'], dtype=object))\n"
     ]
    }
   ],
   "source": [
    "#Take a look at the unique values for categorical variables\n",
    "#Check the categorical variable values\n",
    "print('Categorical variable values:')\n",
    "print('Type values:',np.unique(terrordata['Type']))\n",
    "print('Operating Peak Size values:',np.unique(terrordata['Operating Peak Size']))\n",
    "print('Regime values:',np.unique(terrordata['Regime']))\n",
    "print('Goal values:',np.unique(terrordata['Goal']))"
   ]
  },
  {
   "cell_type": "code",
   "execution_count": 5,
   "metadata": {},
   "outputs": [
    {
     "name": "stdout",
     "output_type": "stream",
     "text": [
      "Index([u'Time', u'Ended', u'Operating Peak Size', u'Econ.', u'Regime', u'Type', u'Goal', u'Reason'], dtype='object')\n"
     ]
    }
   ],
   "source": [
    "#Replace abbreviations with words to make reading tables easier\n",
    "terrordata.loc[terrordata['Type'] == 'R',['Type']] = 'Religious'\n",
    "terrordata.loc[terrordata['Type'] == 'LW',['Type']] = 'Left_wing'\n",
    "terrordata.loc[terrordata['Type'] == 'N',['Type']] = 'Nationalist'\n",
    "terrordata.loc[terrordata['Type'] == 'RW',['Type']] = 'Right_wing'\n",
    "\n",
    "terrordata.loc[terrordata['Regime'] == 'F',['Regime']] = 'Free'\n",
    "terrordata.loc[terrordata['Regime'] == 'PF',['Regime']] = 'Partly_free'\n",
    "terrordata.loc[terrordata['Regime'] == 'NF',['Regime']] = 'Not_free'\n",
    "\n",
    "terrordata.loc[terrordata['Goal'] == 'RC',['Goal']] = 'Regime_change'\n",
    "terrordata.loc[terrordata['Goal'] == 'TC',['Goal']] = 'Territorial_change'\n",
    "terrordata.loc[terrordata['Goal'] == 'PC',['Goal']] = 'Policy_change'\n",
    "terrordata.loc[terrordata['Goal'] == 'E',['Goal']] = 'Empire'\n",
    "terrordata.loc[terrordata['Goal'] == 'SR',['Goal']] = 'Social_revolution'\n",
    "terrordata.loc[terrordata['Goal'] == 'SQ',['Goal']] = 'Status_Quo'\n",
    "\n",
    "terrordata.loc[terrordata['Econ.'] == 'L',['Econ.']] = 'Low_income'\n",
    "terrordata.loc[terrordata['Econ.'] == 'LM',['Econ.']] = 'Lower_middle_income'\n",
    "terrordata.loc[terrordata['Econ.'] == 'UM',['Econ.']] = 'Upper_middle_income'\n",
    "terrordata.loc[terrordata['Econ.'] == 'H',['Econ.']] = 'High_income'\n",
    "\n",
    "terrordata.loc[terrordata['Reason'] == 'PO',['Reason']] = 'Policing'\n",
    "terrordata.loc[terrordata['Reason'] == 'S',['Reason']] = 'Splintering'\n",
    "terrordata.loc[terrordata['Reason'] == 'PT',['Reason']] = 'Politics'\n",
    "terrordata.loc[terrordata['Reason'] == 'V',['Reason']] = 'Victory'\n",
    "terrordata.loc[terrordata['Reason'] == 'MF',['Reason']] = 'Military_force'\n",
    "\n",
    "#Now print the variable names\n",
    "print(terrordata.columns)"
   ]
  },
  {
   "cell_type": "code",
   "execution_count": 6,
   "metadata": {},
   "outputs": [
    {
     "name": "stdout",
     "output_type": "stream",
     "text": [
      "Index([u'Time', u'Ended', u'Operating Peak Size', u'Econ.', u'Regime', u'Type', u'Goal', u'Reason', u'1,000s', u'10,000s', u'100s', u'10s', u'High_income', u'Low_income', u'Lower_middle_income', u'Upper_middle_income', u'Free', u'Not_free', u'Partly_free', u'Left_wing', u'Nationalist', u'Religious', u'Right_wing', u'Empire', u'Policy_change', u'Regime_change', u'Social_revolution', u'Status_Quo', u'Territorial_change', u'Military_force', u'NotEnded', u'Policing', u'Politics', u'Splintering', u'Victory'], dtype='object')\n"
     ]
    }
   ],
   "source": [
    "#Create dummy variables for categorical variables\n",
    "#Store dummy variables for each variable\n",
    "sizevars = pd.get_dummies(terrordata['Operating Peak Size'])\n",
    "econvars = pd.get_dummies(terrordata['Econ.'])\n",
    "regimevars = pd.get_dummies(terrordata['Regime'])\n",
    "typevars = pd.get_dummies(terrordata['Type'])\n",
    "goalvars = pd.get_dummies(terrordata['Goal'])\n",
    "reasonvars = pd.get_dummies(terrordata['Reason'])\n",
    "\n",
    "#Add all dummy variables to the original dataset\n",
    "for var in sizevars:\n",
    "    terrordata[var] = sizevars[var]\n",
    "for var in econvars:\n",
    "    terrordata[var] = econvars[var]\n",
    "for var in regimevars:\n",
    "    terrordata[var] = regimevars[var]\n",
    "for var in typevars:\n",
    "    terrordata[var] = typevars[var]\n",
    "for var in goalvars:\n",
    "    terrordata[var] = goalvars[var]\n",
    "for var in reasonvars:\n",
    "    terrordata[var] = reasonvars[var]\n",
    "    \n",
    "#The dataset now includes all variables and their dummies\n",
    "print(terrordata.columns)  "
   ]
  },
  {
   "cell_type": "code",
   "execution_count": 7,
   "metadata": {},
   "outputs": [],
   "source": [
    "#Create the dataframe that we will use for analyses.\n",
    "#Because we have categorical variables, we will leave \n",
    "#one dummy variable from each categorical variable out \n",
    "#as the reference case. Note that we are leaving\n",
    "#variables for 'reason' out, since one of the categories\n",
    "#of this variable ('not ended') matches the '0' value of the \n",
    "#'Event' variable \n",
    "\n",
    "#Reference categories that are left out are \n",
    "#'Regime_change', '10,000s', 'High_income'\n",
    "#'Not_free', 'Left_wing'.\n",
    "survivaldata = terrordata[['Territorial_change','Policy_change','Empire','Social_revolution','Status_Quo','1,000s','100s','10s','Low_income','Lower_middle_income','Upper_middle_income','Partly_free','Free','Nationalist','Religious','Right_wing']]    \n",
    "\n",
    "#Add a constant term to the data\n",
    "survivaldata = st.add_constant(survivaldata, prepend=False)\n",
    "\n",
    "#Create the event variable. 'Ended' equals 1 if the terrorist group has \n",
    "#ended within the observation period and to 0 if it did not\n",
    "eventvar = terrordata['Ended']\n",
    "\n",
    "#Create the time variable. Time is in years and it is assumed that the minimum\n",
    "#value it takes is 1\n",
    "timevar = terrordata['Time']"
   ]
  },
  {
   "cell_type": "markdown",
   "metadata": {},
   "source": [
    "The dataset is ready for analysis. We start with non-parametric, semi-parametric and parametric methods."
   ]
  }
 ],
 "metadata": {
  "celltoolbar": "Edit Metadata",
  "kernelspec": {
   "display_name": "Python 3",
   "language": "python",
   "name": "python3"
  },
  "language_info": {
   "codemirror_mode": {
    "name": "ipython",
    "version": 3
   },
   "file_extension": ".py",
   "mimetype": "text/x-python",
   "name": "python",
   "nbconvert_exporter": "python",
   "pygments_lexer": "ipython3",
   "version": "3.7.3"
  }
 },
 "nbformat": 4,
 "nbformat_minor": 2
}
