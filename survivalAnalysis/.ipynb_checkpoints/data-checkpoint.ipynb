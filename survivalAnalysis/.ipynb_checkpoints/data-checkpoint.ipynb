{
 "cells": [
  {
   "cell_type": "markdown",
   "metadata": {},
   "source": [
    "**Data Description**"
   ]
  },
  {
   "cell_type": "markdown",
   "metadata": {},
   "source": [
    "The dataset used here is from Jones and Libicki 'How Terrorist Groups End' (Santa Monica, 2008, RAND Corporation). The full report can be found here:\n",
    "\n",
    "http://www.rand.org/content/dam/rand/pubs/monographs/2008/RAND_MG741-1.pdf\n",
    "\n",
    "- ***Authors***     - Jones and Libicki\n",
    "- ***Data Nature*** - RAND - Oklahoma City National Memorial Institute for the Prevention of                           Terrorism (MIPT) Terrorism Incident database\n",
    "- ***Purpose***     - To investigate the factors that contribute to end of terrorist groups. \n",
    "\n",
    "The data includes starting time for 648 terrorist groups that operated between 1968 and 2006.  \n",
    "\n",
    "- 648 terrorist groups and 5 categorical variables. \n",
    "\n",
    "**Variables**\n",
    "\n",
    "**Operating Peak Size**: The peak size of the group.\n",
    "\n",
    "    Categories\n",
    "        10,000s (10,000 or more)\n",
    "        1,000s  (1,000-9,999)\n",
    "        100s    (100-999)\n",
    "        10s     (less than 100).\n",
    "\n",
    "**Econ**: The income level of the base country, described according to World Bank criteria in             the year in which the group ended or in 2006 if the group has not ended.\n",
    "\n",
    "    Categories\n",
    "       H  = High income($10,726 or more)\n",
    "       UM = upper middle income($3,466–$10,725)\n",
    "       LM = lower middle income($876–$3,465)\n",
    "       L  = low income($875 or less)\n",
    "\n",
    "**Goal**: The primary goal of the terrorist group.\n",
    "\n",
    "    Categories\n",
    "        Regime_change\n",
    "        Territorial_change\n",
    "        Policy_change\n",
    "        Empire\n",
    "        Social_revolution\n",
    "        Status_Quo\n",
    "        \n",
    "**Regime**: The level of freedom in the country against which the terrorist group operates.   \n",
    "\n",
    "    Categories\n",
    "        Not free\n",
    "        Partly free\n",
    "        Free values.\n",
    "\n",
    "**Type**: The type of the terrorist group.\n",
    "    \n",
    "    Categories\n",
    "        Left_wing\n",
    "        Right_wing\n",
    "        Nationalist\n",
    "        \n",
    "\n",
    "**Reason**: The reason for ending.\n",
    "    \n",
    "    Categories\n",
    "        Policing\n",
    "        Splintering\n",
    "        Politics\n",
    "        Victory\n",
    "        Military_force\n",
    "        Not ended        "
   ]
  },
  {
   "cell_type": "markdown",
   "metadata": {},
   "source": [
    "**Time** and **Censored** variable to perform the survival analysis.\n",
    "\n",
    "**Time** - Time in years since the start of the terrorist group's activities, either to the time when the terror group ended or to the last observation year (2006) if the terror group did not end until the end of the observed period (1968 - 2006).\n",
    "\n",
    "**Censored** - The censoring variable is labeled 'Ended' and it equals to 1 if the terror group ended between 1968 and 2006 and it equals to 0 if the terror group did not end until 2006."
   ]
  }
 ],
 "metadata": {
  "kernelspec": {
   "display_name": "Python 3",
   "language": "python",
   "name": "python3"
  },
  "language_info": {
   "codemirror_mode": {
    "name": "ipython",
    "version": 3
   },
   "file_extension": ".py",
   "mimetype": "text/x-python",
   "name": "python",
   "nbconvert_exporter": "python",
   "pygments_lexer": "ipython3",
   "version": "3.7.3"
  }
 },
 "nbformat": 4,
 "nbformat_minor": 2
}
